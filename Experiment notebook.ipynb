{
 "cells": [
  {
   "cell_type": "code",
   "execution_count": 143,
   "metadata": {},
   "outputs": [
    {
     "name": "stdout",
     "output_type": "stream",
     "text": [
      "[1 2]\n"
     ]
    }
   ],
   "source": [
    "# Generate a random vector with max values supplied by a type\n",
    "import numpy as np\n",
    "\n",
    "def generate_random_vector(max_values):\n",
    "    return np.array([np.random.choice(dim,1)[:] for dim in max_values])[:,-1]\n",
    "\n",
    "max_values = (4,4)\n",
    "print(generate_random_vector(max_values))"
   ]
  },
  {
   "cell_type": "code",
   "execution_count": 178,
   "metadata": {},
   "outputs": [
    {
     "ename": "AssertionError",
     "evalue": "token can only have value 1 or -1",
     "output_type": "error",
     "traceback": [
      "\u001b[0;31m---------------------------------------------------------------------------\u001b[0m",
      "\u001b[0;31mAssertionError\u001b[0m                            Traceback (most recent call last)",
      "\u001b[0;32m<ipython-input-178-a687a60aa234>\u001b[0m in \u001b[0;36m<module>\u001b[0;34m()\u001b[0m\n\u001b[1;32m     18\u001b[0m \u001b[0;34m\u001b[0m\u001b[0m\n\u001b[1;32m     19\u001b[0m \u001b[0mentry_vector\u001b[0m \u001b[0;34m=\u001b[0m \u001b[0;34m[\u001b[0m\u001b[0;36m4\u001b[0m\u001b[0;34m]\u001b[0m\u001b[0;34m\u001b[0m\u001b[0m\n\u001b[0;32m---> 20\u001b[0;31m \u001b[0mgame_board\u001b[0m \u001b[0;34m=\u001b[0m \u001b[0mplace_token\u001b[0m\u001b[0;34m(\u001b[0m\u001b[0;36m21\u001b[0m\u001b[0;34m,\u001b[0m \u001b[0mentry_vector\u001b[0m\u001b[0;34m)\u001b[0m\u001b[0;34m\u001b[0m\u001b[0m\n\u001b[0m\u001b[1;32m     21\u001b[0m \u001b[0;34m\u001b[0m\u001b[0m\n\u001b[1;32m     22\u001b[0m \u001b[0mentry_vector\u001b[0m \u001b[0;34m=\u001b[0m \u001b[0;34m[\u001b[0m\u001b[0;36m4\u001b[0m\u001b[0;34m]\u001b[0m\u001b[0;34m\u001b[0m\u001b[0m\n",
      "\u001b[0;32m<ipython-input-178-a687a60aa234>\u001b[0m in \u001b[0;36mplace_token\u001b[0;34m(token_value, entry_vector)\u001b[0m\n\u001b[1;32m      8\u001b[0m \u001b[0;32mdef\u001b[0m \u001b[0mplace_token\u001b[0m\u001b[0;34m(\u001b[0m\u001b[0mtoken_value\u001b[0m\u001b[0;34m,\u001b[0m \u001b[0mentry_vector\u001b[0m\u001b[0;34m)\u001b[0m\u001b[0;34m:\u001b[0m\u001b[0;34m\u001b[0m\u001b[0m\n\u001b[1;32m      9\u001b[0m \u001b[0;34m\u001b[0m\u001b[0m\n\u001b[0;32m---> 10\u001b[0;31m     \u001b[0;32massert\u001b[0m \u001b[0mnp\u001b[0m\u001b[0;34m.\u001b[0m\u001b[0mabs\u001b[0m\u001b[0;34m(\u001b[0m\u001b[0mtoken_value\u001b[0m\u001b[0;34m)\u001b[0m \u001b[0;34m==\u001b[0m \u001b[0;36m1\u001b[0m\u001b[0;34m,\u001b[0m \u001b[0;34m\"token can only have value 1 or -1\"\u001b[0m\u001b[0;34m\u001b[0m\u001b[0m\n\u001b[0m\u001b[1;32m     11\u001b[0m \u001b[0;34m\u001b[0m\u001b[0m\n\u001b[1;32m     12\u001b[0m     \u001b[0mentry_vector_shape\u001b[0m \u001b[0;34m=\u001b[0m \u001b[0mlen\u001b[0m\u001b[0;34m(\u001b[0m\u001b[0mgame_board\u001b[0m\u001b[0;34m.\u001b[0m\u001b[0mshape\u001b[0m\u001b[0;34m)\u001b[0m\u001b[0;34m-\u001b[0m\u001b[0;36m1\u001b[0m\u001b[0;34m\u001b[0m\u001b[0m\n",
      "\u001b[0;31mAssertionError\u001b[0m: token can only have value 1 or -1"
     ]
    }
   ],
   "source": [
    "# Introduce a token in an entry position (drop it in from the top in the case of 2D or 3D)\n",
    "# Token should \"slide\" down first dimension (gravity) and settle\n",
    "import numpy as np\n",
    "\n",
    "game_board = np.zeros((6,7), dtype=np.int8)\n",
    "#print(game_board)\n",
    "\n",
    "def place_token(token_value, entry_vector):\n",
    "    \n",
    "    assert np.abs(token_value) == 1, \"token can only have value 1 or -1\"\n",
    "    \n",
    "    entry_vector_shape = len(game_board.shape)-1\n",
    "    assert len(entry_vector) == entry_vector_shape, \"entry vector must have length %d\" % entry_vector_shape\n",
    "    \n",
    "    token_location = np.sum(np.abs(game_board[:,entry_vector]))\n",
    "    game_board[token_location, entry_vector] = token_value\n",
    "    return game_board\n",
    "\n",
    "entry_vector = [4]\n",
    "game_board = place_token(21, entry_vector)\n",
    "\n",
    "entry_vector = [4]\n",
    "game_board = place_token(-1, entry_vector)\n",
    "print(game_board)\n",
    "\n"
   ]
  },
  {
   "cell_type": "code",
   "execution_count": 151,
   "metadata": {},
   "outputs": [
    {
     "data": {
      "text/plain": [
       "array([[0, 0, 0, 0, 0, 0, 0]], dtype=uint8)"
      ]
     },
     "execution_count": 151,
     "metadata": {},
     "output_type": "execute_result"
    }
   ],
   "source": [
    "import numpy as np\n",
    "\n",
    "np.zeros((6,7), dtype=np.uint8)[[1]]\n"
   ]
  }
 ],
 "metadata": {
  "kernelspec": {
   "display_name": "Python 2",
   "language": "python",
   "name": "python2"
  },
  "language_info": {
   "codemirror_mode": {
    "name": "ipython",
    "version": 2
   },
   "file_extension": ".py",
   "mimetype": "text/x-python",
   "name": "python",
   "nbconvert_exporter": "python",
   "pygments_lexer": "ipython2",
   "version": "2.7.12"
  }
 },
 "nbformat": 4,
 "nbformat_minor": 2
}

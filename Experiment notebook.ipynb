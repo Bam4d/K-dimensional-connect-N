{
 "cells": [
  {
   "cell_type": "code",
   "execution_count": 143,
   "metadata": {},
   "outputs": [
    {
     "name": "stdout",
     "output_type": "stream",
     "text": [
      "[1 2]\n"
     ]
    }
   ],
   "source": [
    "# Generate a random vector with max values supplied by a type\n",
    "import numpy as np\n",
    "\n",
    "def generate_random_vector(max_values):\n",
    "    return np.array([np.random.choice(dim,1)[:] for dim in max_values])[:,-1]\n",
    "\n",
    "max_values = (4,4)\n",
    "print(generate_random_vector(max_values))"
   ]
  },
  {
   "cell_type": "code",
   "execution_count": 67,
   "metadata": {},
   "outputs": [
    {
     "name": "stdout",
     "output_type": "stream",
     "text": [
      "[0 0 0 0]\n",
      "[1 0 0 0]\n"
     ]
    }
   ],
   "source": [
    "# Introduce a token in an entry position (drop it in from the top in the case of 2D or 3D)\n",
    "# Token should \"slide\" down first dimension (gravity) and settle\n",
    "import numpy as np\n",
    "\n",
    "game_board = np.zeros((4,3,3), dtype=np.int8)\n",
    "#print(game_board)\n",
    "\n",
    "def place_token(token_value, entry_vector):\n",
    "    \n",
    "    assert np.abs(token_value) == 1, \"token can only have value 1 or -1\"\n",
    "    \n",
    "    entry_vector_shape = len(game_board.shape)-1\n",
    "    assert len(entry_vector) == entry_vector_shape, \"entry vector must have length %d\" % entry_vector_shape\n",
    "    \n",
    "    #print(entry_vector)\n",
    "    \n",
    "    print(game_board[:,0,0])\n",
    "    \n",
    "    token_fall_coordinate = np.sum(np.abs(game_board[:,entry_vector]))\n",
    "    \n",
    "    #print(token_fall_coordinate)\n",
    "    \n",
    "    token_final_location = np.concatenate((np.array([token_fall_coordinate], dtype=np.int64), entry_vector))\n",
    "    \n",
    "    game_board[np.expand_dims(token_final_location,1).tolist()] = token_value\n",
    "    return game_board\n",
    "\n",
    "entry_vector = [0,0]\n",
    "game_board = place_token(1, entry_vector)\n",
    "\n",
    "entry_vector = [0,0]\n",
    "game_board = place_token(-1, entry_vector)\n",
    "#print(game_board)\n",
    "\n"
   ]
  },
  {
   "cell_type": "code",
   "execution_count": 78,
   "metadata": {},
   "outputs": [
    {
     "name": "stdout",
     "output_type": "stream",
     "text": [
      "Take 1\n",
      "converted vector [ 0.  0.  1.]\n",
      "Take 3\n",
      "converted vector [ 0.  1.  0.]\n",
      "converted vector [ 0.  1.  1.]\n",
      "converted vector [ 0.  1. -1.]\n",
      "Take 9\n",
      "converted vector [ 1.  0.  0.]\n",
      "converted vector [ 1.  0.  1.]\n",
      "converted vector [ 1.  0. -1.]\n",
      "converted vector [ 1.  1.  0.]\n",
      "converted vector [ 1.  1.  1.]\n",
      "converted vector [ 1.  1. -1.]\n",
      "converted vector [ 1. -1.  0.]\n",
      "converted vector [ 1. -1.  1.]\n",
      "converted vector [ 1. -1. -1.]\n"
     ]
    }
   ],
   "source": [
    "# Find all the vectors we need to check along in K dimensions to see if there are N tokens in a row\n",
    "import numpy as np\n",
    "\n",
    "# 3 dimensions\n",
    "#\n",
    "# Straight\n",
    "# 1,0,0\n",
    "# 0,1,0\n",
    "# 0,0,1\n",
    "#\n",
    "# Diagonals\n",
    "#  1, 1, 0\n",
    "#  1,-1, 0\n",
    "#  1, 0, 1\n",
    "#  1, 0,-1\n",
    "#  0, 1, 1\n",
    "#  0, 1,-1\n",
    "#\n",
    "#  1, 1, 1\n",
    "#  1,-1, 1\n",
    "# -1,-1, 1\n",
    "# -1, 1, 1\n",
    "#\n",
    " \n",
    "# Pattern is similar to base 3\n",
    "#  0  0  1\n",
    "#  0  0 -1 - == -x[1]\n",
    "#  0  1  0\n",
    "#  0  1  1\n",
    "#  0  1 -1\n",
    "#  0 -1  0 - == -x[3]\n",
    "#  0 -1  1 - == -x[5]\n",
    "#  0 -1 -1 - == -x[4]\n",
    "#  1  0  0\n",
    "#  1  0  1\n",
    "#  1  0 -1 \n",
    "#  1  1  0\n",
    "#  1  1  1\n",
    "#  1  1 -1\n",
    "#  1 -1  0 \n",
    "#  1 -1  1 \n",
    "#  1 -1 -1\n",
    "# -1  0  0 - == -x[9]\n",
    "# -1  0  1 - == -x[11]\n",
    "# -1  0 -1 - == -x[10]\n",
    "# -1  1  0 - == -x[15]\n",
    "# -1  1  1 - == -x[17]\n",
    "# -1  1 -1 - == -x[16]\n",
    "# -1 -1  0 - == -x[12]\n",
    "# -1 -1  1 - == -x[14]\n",
    "# -1 -1 -1 - == -x[13]\n",
    "\n",
    "def convert_to_vector(value, K):\n",
    "    #print(\"value to convert %d\" % value)\n",
    "    vector = np.zeros(K)\n",
    "    for k in range(0, K):\n",
    "\n",
    "        base3_power = 3**((K-1)-k)\n",
    "\n",
    "        a = int(value / base3_power)\n",
    "        value = value % base3_power\n",
    "\n",
    "        \n",
    "        vector[k] = a if a<2 else -1\n",
    "        \n",
    "    return vector\n",
    "        \n",
    "vectors = []\n",
    "K = 3\n",
    "for i in range(0, K):\n",
    "    \n",
    "    take = 3**i\n",
    "    print(\"Take %d\" % take)\n",
    "    for j in range(0, take):\n",
    "        converted_vector = convert_to_vector(take + j, K)\n",
    "        print(\"converted vector %s\" % converted_vector)\n",
    "        vectors.append(converted_vector)\n"
   ]
  },
  {
   "cell_type": "code",
   "execution_count": 151,
   "metadata": {},
   "outputs": [
    {
     "data": {
      "text/plain": [
       "array([[0, 0, 0, 0, 0, 0, 0]], dtype=uint8)"
      ]
     },
     "execution_count": 151,
     "metadata": {},
     "output_type": "execute_result"
    }
   ],
   "source": [
    "import numpy as np\n",
    "\n",
    "np.zeros((6,7), dtype=np.uint8)[[1]]\n"
   ]
  },
  {
   "cell_type": "code",
   "execution_count": 148,
   "metadata": {},
   "outputs": [
    {
     "name": "stdout",
     "output_type": "stream",
     "text": [
      "[1 1 1 0]\n",
      "[1 1 1 0]\n"
     ]
    }
   ],
   "source": [
    "import numpy as np\n",
    "choose_position = np.array([0],dtype=np.int8)\n",
    "\n",
    "game_board = np.zeros((4,6), dtype=np.int8)\n",
    "\n",
    "game_board[0,0] = 1\n",
    "game_board[1,0] = 1\n",
    "game_board[2,0] = 1\n",
    "\n",
    "print(game_board[:,0])\n",
    "\n",
    "\n",
    "print(game_board[[slice(None)] + choose_position.tolist()])\n"
   ]
  },
  {
   "cell_type": "code",
   "execution_count": 138,
   "metadata": {},
   "outputs": [
    {
     "data": {
      "text/plain": [
       "array([0, 0, 0, 0], dtype=int8)"
      ]
     },
     "execution_count": 138,
     "metadata": {},
     "output_type": "execute_result"
    }
   ],
   "source": []
  },
  {
   "cell_type": "code",
   "execution_count": 16,
   "metadata": {},
   "outputs": [
    {
     "data": {
      "text/plain": [
       "array([2, 0])"
      ]
     },
     "execution_count": 16,
     "metadata": {},
     "output_type": "execute_result"
    }
   ],
   "source": [
    "import numpy as np\n",
    "\n",
    "a = np.zeros(16)\n",
    "a[8] = 1\n",
    "np.array(np.where(a.reshape([4,4])==1)).flatten()"
   ]
  }
 ],
 "metadata": {
  "kernelspec": {
   "display_name": "Python 2",
   "language": "python",
   "name": "python2"
  },
  "language_info": {
   "codemirror_mode": {
    "name": "ipython",
    "version": 2
   },
   "file_extension": ".py",
   "mimetype": "text/x-python",
   "name": "python",
   "nbconvert_exporter": "python",
   "pygments_lexer": "ipython2",
   "version": "2.7.12"
  }
 },
 "nbformat": 4,
 "nbformat_minor": 2
}
